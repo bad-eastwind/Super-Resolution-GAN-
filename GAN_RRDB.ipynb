{
 "nbformat": 4,
 "nbformat_minor": 0,
 "metadata": {
  "colab": {
   "name": "Image super resolution by ESRGAN.ipynb",
   "provenance": []
  },
  "kernelspec": {
   "name": "python3",
   "display_name": "Python 3"
  },
  "language_info": {
   "name": "python"
  },
  "accelerator": "GPU"
 },
 "cells": [
  {
   "cell_type": "code",
   "metadata": {
    "id": "ZCBdOxIHLxum",
    "pycharm": {
     "name": "#%%\n"
    }
   },
   "source": [
    "import os\n",
    "import time \n",
    "import matplotlib.pyplot as plt\n",
    "import numpy as np\n",
    "from PIL import Image\n",
    "import tensorflow as tf\n",
    "##import tensorflow_hub as hub\n",
    "os.environ['TFHUB_DOWNLOAD_PROGRESS']='True'\n"
   ],
   "execution_count": 2,
   "outputs": []
  },
  {
   "cell_type": "code",
   "metadata": {
    "colab": {
     "base_uri": "https://localhost:8080/"
    },
    "id": "XnDGKC9YNn_T",
    "outputId": "26392c03-754f-4123-ac71-47d2b12b9b6d",
    "pycharm": {
     "name": "#%%\n"
    }
   },
   "source": [
    "!wget \"https://user-images.githubusercontent.com/12981474/40157448-eff91f06-5953-11e8-9a37-f6b5693fa03f.png\" -O original.png"
   ],
   "execution_count": 3,
   "outputs": [
    {
     "name": "stderr",
     "output_type": "stream",
     "text": [
      "'wget' is not recognized as an internal or external command,\n",
      "operable program or batch file.\n"
     ]
    }
   ]
  },
  {
   "cell_type": "code",
   "metadata": {
    "id": "68ujr_olN0Z4",
    "pycharm": {
     "name": "#%%\n"
    }
   },
   "source": [
    "# setting the image and its path\n",
    "IMAGE_PATH = 'images (2).jpg'\n",
    "SAVED_MODEL_PATH = \"https://tfhub.dev/captain-pool/esrgan-tf2/1\""
   ],
   "execution_count": 4,
   "outputs": []
  },
  {
   "cell_type": "markdown",
   "metadata": {
    "id": "2w-kC0_mKgyT",
    "pycharm": {
     "name": "#%% md\n"
    }
   },
   "source": [
    "## Helper function to plot and process images"
   ]
  },
  {
   "cell_type": "code",
   "metadata": {
    "id": "3N9NyAwkPCBF",
    "pycharm": {
     "name": "#%%\n"
    }
   },
   "source": [
    "# function to preprocess image so that it can be handled by model\n",
    "def preprocess_image(image_path):\n",
    "   '''Loads the image given make it ready for \n",
    "      the model\n",
    "      Args:\n",
    "        image_path: Path to the image file\n",
    "   '''\n",
    "   image = tf.image.decode_image(tf.io.read_file(image_path))\n",
    "   if image.shape[-1] == 4:\n",
    "     image = image[...,:-1]\n",
    "   size = (tf.convert_to_tensor(image.shape[:-1]) // 4) * 4\n",
    "   image = tf.image.crop_to_bounding_box(image, 0, 0, size[0], size[1])\n",
    "   image = tf.cast(image,tf.float32)\n",
    "   return tf.expand_dims(image,0)\n",
    "\n",
    "def save_image(image,filename):\n",
    "  ''' \n",
    "   Saves unscaled Tensor Images\n",
    "   image: 3D image Tensor\n",
    "   filename: Name of the file to be saved\n",
    "  '''\n",
    "  if not isinstance(image, Image.Image):\n",
    "      image = tf.clip_by_value(image, 0, 255)\n",
    "      image = Image.fromarray(tf.cast(image, tf.uint8).numpy())\n",
    "  image.save('%s.jpg' % filename)\n",
    "  print('Saved as %s.jpg' % filename)"
   ],
   "execution_count": 5,
   "outputs": []
  },
  {
   "cell_type": "code",
   "metadata": {
    "colab": {
     "base_uri": "https://localhost:8080/"
    },
    "id": "KA_ueEi4RmSq",
    "outputId": "11170e41-21e5-4873-f9ab-5a76d710bd24",
    "pycharm": {
     "name": "#%%\n",
     "is_executing": true
    }
   },
   "source": [
    "preprocess_image(IMAGE_PATH)"
   ],
   "execution_count": null,
   "outputs": []
  },
  {
   "cell_type": "markdown",
   "source": [
    "Structural Similarity Index\n"
   ],
   "metadata": {
    "collapsed": false,
    "pycharm": {
     "name": "#%% md\n"
    }
   }
  },
  {
   "cell_type": "code",
   "execution_count": null,
   "outputs": [],
   "source": [
    "from IPython.display import Image\n",
    "Image(url= \"https://nguyenkimth-my.sharepoint.com/:i:/g/personal/lp261_o-365_co/Eck8f5isNglNqADFwaGTKAcBk-h0bqNfXN_xrAOHlreD5w?e=hDmLze\",)"
   ],
   "metadata": {
    "collapsed": false,
    "pycharm": {
     "name": "#%%\n"
    }
   }
  },
  {
   "cell_type": "code",
   "metadata": {
    "id": "IMZEI4Z8RuyT",
    "pycharm": {
     "name": "#%%\n"
    }
   },
   "source": [
    "#%matplotlib inline\n",
    "def plot_image(image,title=''):\n",
    "  ''' \n",
    "  plots the Image tensors\n",
    "  image: 3D image Tensor\n",
    "  title: Title for plot\n",
    "  '''\n",
    "  image = np.asarray(image)\n",
    "  image = tf.clip_by_value(image, 0, 255)\n",
    "  image = Image.fromarray(tf.cast(image, tf.uint8).numpy())\n",
    "  plt.imshow(image)\n",
    "  plt.axis('off')\n",
    "  plt.title(title)\n"
   ],
   "execution_count": null,
   "outputs": []
  },
  {
   "cell_type": "markdown",
   "metadata": {
    "id": "2d-rIxO1KycL",
    "pycharm": {
     "name": "#%% md\n"
    }
   },
   "source": [
    "## super resolution"
   ]
  },
  {
   "cell_type": "code",
   "metadata": {
    "id": "5GrNdgWBLSyV",
    "pycharm": {
     "name": "#%%\n"
    }
   },
   "source": [
    "model = hub.load(SAVED_MODEL_PATH)"
   ],
   "execution_count": null,
   "outputs": []
  },
  {
   "cell_type": "code",
   "metadata": {
    "colab": {
     "base_uri": "https://localhost:8080/",
     "height": 566
    },
    "id": "3ckrnPILKZ-u",
    "outputId": "ee7cd6c7-5e64-4170-d855-d4299cfdb683",
    "pycharm": {
     "name": "#%%\n"
    }
   },
   "source": [
    "load_image = preprocess_image(IMAGE_PATH)\n",
    "\n",
    "# plot original image\n",
    "plot_image(tf.squeeze(load_image),title='Original Photo')"
   ],
   "execution_count": null,
   "outputs": []
  },
  {
   "cell_type": "code",
   "metadata": {
    "colab": {
     "base_uri": "https://localhost:8080/"
    },
    "id": "Mj7PwuQmLl8E",
    "outputId": "dedf5439-0ede-47bf-fb28-390eb7de107c",
    "pycharm": {
     "name": "#%%\n"
    }
   },
   "source": [
    "# Start Performing resolution \n",
    "start = time.time()\n",
    "super_image = model(load_image)\n",
    "super_image = tf.squeeze(super_image)\n",
    "print('Time taken to complete process: %f'%(time.time() - start))"
   ],
   "execution_count": null,
   "outputs": []
  },
  {
   "cell_type": "code",
   "metadata": {
    "colab": {
     "base_uri": "https://localhost:8080/",
     "height": 566
    },
    "id": "fJqQL9n9MPFZ",
    "outputId": "4a9f2514-fa35-4781-cbdb-745b891ec913",
    "pycharm": {
     "name": "#%%\n"
    }
   },
   "source": [
    "#plot the output image \n",
    "plot_image(tf.squeeze(super_image),'Super Resolution')"
   ],
   "execution_count": null,
   "outputs": []
  },
  {
   "cell_type": "markdown",
   "metadata": {
    "id": "ihuR7v4ZdVTf",
    "pycharm": {
     "name": "#%% md\n"
    }
   },
   "source": [
    "## Evalutaion "
   ]
  },
  {
   "cell_type": "code",
   "metadata": {
    "colab": {
     "base_uri": "https://localhost:8080/"
    },
    "id": "CT2-xGRQeCDn",
    "outputId": "2f8f98de-94a8-45a6-992b-3b0cc4442e27",
    "pycharm": {
     "name": "#%%\n"
    }
   },
   "source": [
    "!wget \"https://lh4.googleusercontent.com/-Anmw5df4gj0/AAAAAAAAAAI/AAAAAAAAAAc/6HxU8XFLnQE/photo.jpg64\" -O test.jpg\n",
    "IMAGE_PATH = \"test.jpg\""
   ],
   "execution_count": null,
   "outputs": []
  },
  {
   "cell_type": "code",
   "metadata": {
    "id": "hnxIbcuecpCW",
    "pycharm": {
     "name": "#%%\n"
    }
   },
   "source": [
    "def downscale_image(image):\n",
    "  \"\"\"\n",
    "      Scales down images using bicubic downsampling.\n",
    "      Args:\n",
    "          image: 3D or 4D tensor of preprocessed image\n",
    "  \"\"\"\n",
    "  image_size = []\n",
    "  if len(image.shape) == 3:\n",
    "    image_size = [image.shape[1], image.shape[0]]\n",
    "  else:\n",
    "    raise ValueError(\"Dimension mismatch. Can work only on single image.\")\n",
    "\n",
    "  image = tf.squeeze(tf.cast(tf.clip_by_value(image, 0, 255), tf.uint8))\n",
    "\n",
    "  lr_image = np.asarray(Image.fromarray(image.numpy()).resize([image_size[0] // 4, image_size[1] // 4],Image.BICUBIC))\n",
    "\n",
    "  lr_image = tf.expand_dims(lr_image, 0)\n",
    "  lr_image = tf.cast(lr_image, tf.float32)\n",
    "  return lr_image"
   ],
   "execution_count": null,
   "outputs": []
  },
  {
   "cell_type": "code",
   "metadata": {
    "id": "e-LFYYivcpAP",
    "pycharm": {
     "name": "#%%\n"
    }
   },
   "source": [
    "hr_image = preprocess_image(IMAGE_PATH)"
   ],
   "execution_count": null,
   "outputs": []
  },
  {
   "cell_type": "code",
   "metadata": {
    "id": "3INpY9YHco-G",
    "pycharm": {
     "name": "#%%\n"
    }
   },
   "source": [
    "lr_image = downscale_image(tf.squeeze(hr_image))"
   ],
   "execution_count": null,
   "outputs": []
  },
  {
   "cell_type": "code",
   "metadata": {
    "colab": {
     "base_uri": "https://localhost:8080/",
     "height": 566
    },
    "id": "mRPFeZGVdBSv",
    "outputId": "e47e252e-d2b2-4140-df85-918f971f927a",
    "pycharm": {
     "name": "#%%\n"
    }
   },
   "source": [
    "# Plotting Low Resolution Image\n",
    "plot_image(tf.squeeze(lr_image), title=\"Low Resolution\")"
   ],
   "execution_count": null,
   "outputs": []
  },
  {
   "cell_type": "code",
   "metadata": {
    "colab": {
     "base_uri": "https://localhost:8080/"
    },
    "id": "4ol8JE5jdBRE",
    "outputId": "70bf46e9-fb09-4c08-ada6-5da24a5017dd",
    "pycharm": {
     "name": "#%%\n"
    }
   },
   "source": [
    "start = time.time()\n",
    "fake_image = model(lr_image)\n",
    "fake_image = tf.squeeze(fake_image)\n",
    "print(\"Time Taken: %f\" % (time.time() - start))"
   ],
   "execution_count": null,
   "outputs": []
  },
  {
   "cell_type": "code",
   "metadata": {
    "colab": {
     "base_uri": "https://localhost:8080/",
     "height": 585
    },
    "id": "C8q_h8_7dBPP",
    "outputId": "65a34543-b605-4c44-d1d4-7efc3bd63e41",
    "pycharm": {
     "name": "#%%\n"
    }
   },
   "source": [
    "plot_image(tf.squeeze(fake_image), title=\"Super Resolution\")\n",
    "# Calculating PSNR wrt Original Image\n",
    "psnr = tf.image.psnr(\n",
    "    tf.clip_by_value(fake_image, 0, 255),\n",
    "    tf.clip_by_value(hr_image, 0, 255), max_val=255)\n",
    "print(\"PSNR Achieved: %f\" % psnr)"
   ],
   "execution_count": null,
   "outputs": []
  },
  {
   "cell_type": "code",
   "metadata": {
    "colab": {
     "base_uri": "https://localhost:8080/",
     "height": 268
    },
    "id": "9wPOWY3qdBM_",
    "outputId": "2301a5f2-6f7a-4dcb-f181-6fe875d14283",
    "pycharm": {
     "name": "#%%\n"
    }
   },
   "source": [
    "plt.rcParams['figure.figsize'] = [15, 10]\n",
    "fig, axes = plt.subplots(1, 3)\n",
    "fig.tight_layout()\n",
    "plt.subplot(131)\n",
    "plot_image(tf.squeeze(hr_image), title=\"Original\")\n",
    "plt.subplot(132)\n",
    "fig.tight_layout()\n",
    "plot_image(tf.squeeze(lr_image), \"x4 Bicubic\")\n",
    "plt.subplot(133)\n",
    "fig.tight_layout()\n",
    "plot_image(tf.squeeze(fake_image), \"Super Resolution\")\n",
    "plt.savefig(\"ESRGAN_DIV2K.jpg\", bbox_inches=\"tight\")\n",
    "print(\"PSNR: %f\" % psnr)"
   ],
   "execution_count": null,
   "outputs": []
  },
  {
   "cell_type": "code",
   "metadata": {
    "id": "-MKbrNOqdQQP",
    "pycharm": {
     "name": "#%%\n"
    }
   },
   "source": [],
   "execution_count": null,
   "outputs": []
  }
 ]
}